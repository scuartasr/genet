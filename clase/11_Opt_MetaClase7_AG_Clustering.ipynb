{
  "cells": [
    {
      "cell_type": "markdown",
      "metadata": {
        "id": "RVLYVoQvQ0Rm"
      },
      "source": [
        "<table>\n",
        "    <tr>\n",
        "        <td style=\"text-align:left\">\n",
        "            <img src=\"https://encrypted-tbn0.gstatic.com/images?q=tbn:ANd9GcR9ItLTT_F-3Q30cu7ZCCoKmuFGBt22pe7pNA\" alt=\"Logo Universidad\" width=\"300\"/>\n",
        "        </td>\n",
        "        <td>\n",
        "            Departamento de Ciencias de la Computación y de la Decisión<br>\n",
        "            Facultad de Minas<br>\n",
        "            Universidad Nacional de Colombia<br>\n",
        "            Optimizacion e IA 2024-2S<br><br>\n",
        "            Docente: Maria Constanza Torres Madronero<br>\n",
        "            <br>\n",
        "            Contribuciones a la guia por: <br>\n",
        "            - Deimer Miranda Montoya (2023)<br>\n",
        "            - Luis Fernando Becerra Monsalve (2024)\n",
        "        </td>    \n",
        "        </td>    \n",
        "    </tr>\n",
        "</table>"
      ]
    },
    {
      "cell_type": "markdown",
      "metadata": {
        "id": "5F3uibtDKWsK"
      },
      "source": [
        "### Clustering\n",
        "Una tarea frecuente en aprendizaje de máquinas no supervisado es el agrupamiento o clustering. Estas técnicas permiten descubrir relaciones o patrones ocultos en los datos analizados. Existen diferentes métodos de agrupamiento, destacándose Kmeans por su simplicidad. En esta práctica compararemos Kmeans con técnicas de clustering que emplean métodos metaheuristicos como GA, PSO y ACO."
      ]
    },
    {
      "cell_type": "markdown",
      "metadata": {
        "id": "OJI55_V2Kbfh"
      },
      "source": [
        "Primero generaremos una nube de datos para comparar los diferentes algoritmos. Para esto usaremos nuevamente herramientas disponibles en la librería sklearn."
      ]
    },
    {
      "cell_type": "code",
      "execution_count": null,
      "metadata": {
        "id": "nGKSyUWcyx_e"
      },
      "outputs": [],
      "source": [
        "#Importar librerias\n",
        "import numpy as np\n",
        "import matplotlib.pyplot as plt\n",
        "from sklearn.cluster import KMeans\n",
        "from sklearn.datasets import make_blobs\n",
        "from sklearn.metrics import silhouette_score\n",
        "from sklearn import preprocessing"
      ]
    },
    {
      "cell_type": "code",
      "execution_count": null,
      "metadata": {
        "id": "u1SyrkCSaanj"
      },
      "outputs": [],
      "source": [
        "#Generacion de nubes de puntos\n",
        "\n",
        "\n",
        "#Repetir con random_state=2\n",
        "#Repetir con random_state=37 y num_cluster=5\n",
        "\n",
        "#Importante: normalizar los datos\n",
        "\n",
        "#Visualizacion de los datos\n",
        "colors = [\"#4EACC5\", \"#FF9C34\", \"#4E9A06\", 'm']\n",
        "for k, col in enumerate(colors):\n",
        "    cluster_data = y_true == k\n",
        "    plt.scatter(X[cluster_data, 0], X[cluster_data, 1], c=col, marker=\".\", s=10)"
      ]
    },
    {
      "cell_type": "markdown",
      "metadata": {
        "id": "TGuCY45eKqPA"
      },
      "source": [
        "# Kmeans\n",
        "Para esta práctica usaremos la implementación clásica de Kmeans empleando el método disponible en la librería sklearn."
      ]
    },
    {
      "cell_type": "code",
      "execution_count": null,
      "metadata": {
        "id": "0W_VUGWyKo5A"
      },
      "outputs": [],
      "source": [
        "####"
      ]
    },
    {
      "cell_type": "markdown",
      "metadata": {
        "id": "KB_5raNiKwJw"
      },
      "source": [
        "#Coeficiente de silueta\n",
        "Vamos a usar el [coeficiente de silueta](https://scikit-learn.org/stable/modules/generated/sklearn.metrics.silhouette_score.html) como métrica de desempeño de los algoritmos de clustering. Existen diferentes métricas para esto, como la suma de la distancia al cuadrado de cada punto a su centroide. Sin embargo, el coeficiente de silueta no solo tiene en cuenta la distancia intra-cluster (distancia de cada punto al centro del clúster: a), sino también la distancia al clúster más cercano (b). El coeficiente de silueta para una muestra está dado por (b - a) / max(a, b). El mejor valor que se puede obtener es 1 y el peor -1. Valores cercanos a 0 indican clústeres que se sobreponen. Valores negativos indican una mala asignación de muestras a los clústeres, dado que existe un clúster más cercano o simular a ciertas muestras."
      ]
    },
    {
      "cell_type": "code",
      "execution_count": null,
      "metadata": {
        "id": "V1Vxy2vyKtz4"
      },
      "outputs": [],
      "source": [
        "#Calculo del coeficiente de silueta\n",
        "###\n",
        "print(\"Coeff Silueta para Kmeans: = \", score)"
      ]
    },
    {
      "cell_type": "code",
      "execution_count": null,
      "metadata": {
        "id": "3DNeNreJK2mP"
      },
      "outputs": [],
      "source": [
        "#Grafica de los cluster y centroides obtenidos\n",
        "for k, col in enumerate(colors):\n",
        "    filtered = X[kmeans.labels_==k]\n",
        "    plt.scatter(filtered[:, 0], filtered[:, 1], c=col, marker=\".\", s=10)\n",
        "    plt.scatter(kmeans.cluster_centers_[k, 0], kmeans.cluster_centers_[k, 1], c=\"black\", marker=\"o\", s=20)"
      ]
    },
    {
      "cell_type": "markdown",
      "metadata": {
        "id": "2mQHipPA6TtP"
      },
      "source": [
        "### Algoritmo Genético\n",
        "Vamos a usar la libreria PyGAD para realizar el proceso de clustering."
      ]
    },
    {
      "cell_type": "code",
      "execution_count": null,
      "metadata": {
        "id": "wHc0wEbFLRRv"
      },
      "outputs": [],
      "source": [
        "#Instalacion de la libreria\n"
      ]
    },
    {
      "cell_type": "code",
      "execution_count": null,
      "metadata": {
        "id": "jM9S-pdn7bJ2"
      },
      "outputs": [],
      "source": [
        "#Importar libreria pygad\n"
      ]
    },
    {
      "cell_type": "code",
      "execution_count": null,
      "metadata": {
        "id": "FS8Nl47V8nUx"
      },
      "outputs": [],
      "source": [
        "#Paso 1: Definire funcion fitness (funcion de aptitud)\n",
        "#solution: arreglo con los centroides del cluster\n",
        "#solution = [c1(x) c1(x) c2(x) c2(y)... cn(x) cn(y)]\n",
        "\n",
        "def fitness_func(ga_instance, solution, solution_idx):\n",
        "\n",
        "\n",
        "    return fitness"
      ]
    },
    {
      "cell_type": "code",
      "execution_count": null,
      "metadata": {
        "id": "6kvpzsat799M"
      },
      "outputs": [],
      "source": [
        "#Paso 2: Preparamos los parametros para correr el algoritmo genetico\n",
        "num_generations = ##\n",
        "num_parents_mating = ##\n",
        "fitness_function = fitness_func\n",
        "sol_per_pop = ##\n",
        "#Numero de genes en la solucion\n",
        "num_genes = num_cluster*2\n",
        "#Rangos iniciales para la poblacion inicial\n",
        "init_range_low = ##\n",
        "init_range_high = ##\n",
        "#Metodo para la seleccion de padres\n",
        "#\"rws\": Ruleta\n",
        "#\"tournament\": Torneo\n",
        "parent_selection_type = \"rws\"\n",
        "keep_parents = 5\n",
        "crossover_type = \"single_point\"\n",
        "crossover_probability=0.8\n",
        "mutation_type = \"random\"\n",
        "mutation_probability = 0.1"
      ]
    },
    {
      "cell_type": "code",
      "execution_count": null,
      "metadata": {
        "id": "3QMrGShK8e5L"
      },
      "outputs": [],
      "source": [
        "#Instanciar el Algoritmo\n",
        "ga_instance = pygad.GA(num_generations=num_generations,\n",
        "                       num_parents_mating=num_parents_mating,\n",
        "                       fitness_func=fitness_function,\n",
        "                       sol_per_pop=sol_per_pop,\n",
        "                       num_genes=num_genes,\n",
        "                       init_range_low=init_range_low,\n",
        "                       init_range_high=init_range_high,\n",
        "                       parent_selection_type=parent_selection_type,\n",
        "                       keep_parents=keep_parents,\n",
        "                       crossover_type=crossover_type,\n",
        "                       crossover_probability = crossover_probability,\n",
        "                       mutation_type=mutation_type,\n",
        "                       mutation_probability=mutation_probability)"
      ]
    },
    {
      "cell_type": "code",
      "execution_count": null,
      "metadata": {
        "id": "6a3HmTnu89xn"
      },
      "outputs": [],
      "source": [
        "#Corremos el algoritmo\n",
        "ga_instance.run()"
      ]
    },
    {
      "cell_type": "code",
      "execution_count": null,
      "metadata": {
        "id": "vYLMfW289CA3"
      },
      "outputs": [],
      "source": [
        "#Extraemos la mejor solucion\n",
        "solution, solution_fitness, solution_idx = ga_instance.best_solution()\n",
        "print(f\"Parameters of the best solution : {solution}\")\n",
        "print(f\"Fitness value of the best solution = {solution_fitness}\")\n"
      ]
    },
    {
      "cell_type": "code",
      "execution_count": null,
      "metadata": {
        "id": "88d3mmx5Irx_"
      },
      "outputs": [],
      "source": [
        "ga_instance.plot_fitness()"
      ]
    },
    {
      "cell_type": "code",
      "execution_count": null,
      "metadata": {
        "id": "Gm73npPLRFA9"
      },
      "outputs": [],
      "source": [
        "#Obtenemos los cluster asociados a cada muestra\n",
        "distance = np.zeros([n_samples,num_cluster])\n",
        "k=0\n",
        "for i in np.arange(0,(num_cluster)*2,2):\n",
        "  centroid = np.array([solution[i], solution[i+1]])\n",
        "  distance[:,k] = np.square(np.sum(np.power(X - centroid, 2), axis=1))\n",
        "  k=k+1\n",
        "GA_labels=distance.argmin(axis=1)"
      ]
    },
    {
      "cell_type": "code",
      "execution_count": null,
      "metadata": {
        "id": "tG-fIoVxRQ19"
      },
      "outputs": [],
      "source": [
        "#Mostrar clusters\n",
        "i=0\n",
        "for k, col in enumerate(colors):\n",
        "    filtered = X[GA_labels==k]\n",
        "    plt.scatter(filtered[:, 0], filtered[:, 1], c=col, marker=\".\", s=10)\n",
        "    plt.scatter(solution[i], solution[i+1], c=\"black\", marker=\"o\", s=20)\n",
        "    i+=2"
      ]
    }
  ],
  "metadata": {
    "colab": {
      "provenance": []
    },
    "kernelspec": {
      "display_name": "Python 3",
      "language": "python",
      "name": "python3"
    },
    "language_info": {
      "codemirror_mode": {
        "name": "ipython",
        "version": 3
      },
      "file_extension": ".py",
      "mimetype": "text/x-python",
      "name": "python",
      "nbconvert_exporter": "python",
      "pygments_lexer": "ipython3",
      "version": "3.10.12"
    }
  },
  "nbformat": 4,
  "nbformat_minor": 0
}