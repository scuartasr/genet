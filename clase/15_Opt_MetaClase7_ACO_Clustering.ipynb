{
  "cells": [
    {
      "cell_type": "markdown",
      "metadata": {
        "id": "RVLYVoQvQ0Rm"
      },
      "source": [
        "<table>\n",
        "    <tr>\n",
        "        <td style=\"text-align:left\">\n",
        "            <img src=\"https://encrypted-tbn0.gstatic.com/images?q=tbn:ANd9GcR9ItLTT_F-3Q30cu7ZCCoKmuFGBt22pe7pNA\" alt=\"Logo Universidad\" width=\"300\"/>\n",
        "        </td>\n",
        "        <td>\n",
        "            Departamento de Ciencias de la Computación y de la Decisión<br>\n",
        "            Facultad de Minas<br>\n",
        "            Universidad Nacional de Colombia<br>\n",
        "            Optimizacion e IA 2024-2S<br><br>\n",
        "            Docente: Maria Constanza Torres Madronero<br>\n",
        "            <br>\n",
        "            Contribuciones a la guia por: <br>\n",
        "            - Deimer Miranda Montoya (2023)<br>\n",
        "            - Luis Fernando Becerra Monsalve (2024)\n",
        "        </td>    \n",
        "        </td>    \n",
        "    </tr>\n",
        "</table>"
      ]
    },
    {
      "cell_type": "markdown",
      "metadata": {
        "id": "5F3uibtDKWsK"
      },
      "source": [
        "### Clustering\n",
        "Una tarea frecuente en aprendizaje de máquinas no supervisado es el agrupamiento o clustering. Estas técnicas permiten descubrir relaciones o patrones ocultos en los datos analizados. Existen diferentes métodos de agrupamiento, destacándose Kmeans por su simplicidad. En esta práctica compararemos Kmeans con técnicas de clustering que emplean métodos metaheuristicos como GA, PSO y ACO."
      ]
    },
    {
      "cell_type": "markdown",
      "metadata": {
        "id": "OJI55_V2Kbfh"
      },
      "source": [
        "Primero generaremos una nube de datos para comparar los diferentes algoritmos. Para esto usaremos nuevamente herramientas disponibles en la librería sklearn."
      ]
    },
    {
      "cell_type": "code",
      "execution_count": null,
      "metadata": {
        "id": "nGKSyUWcyx_e"
      },
      "outputs": [],
      "source": [
        "#Importar librerias\n",
        "import numpy as np\n",
        "import matplotlib.pyplot as plt\n",
        "from sklearn.cluster import KMeans\n",
        "from sklearn.datasets import make_blobs\n",
        "from sklearn.metrics import silhouette_score\n",
        "from sklearn import preprocessing"
      ]
    },
    {
      "cell_type": "code",
      "execution_count": null,
      "metadata": {
        "id": "u1SyrkCSaanj"
      },
      "outputs": [],
      "source": [
        "#Generacion de nubes de puntos\n",
        "num_cluster = 4\n",
        "n_samples = 2000\n",
        "X, y_true = make_blobs(n_samples=n_samples, centers=num_cluster, n_features=2, random_state=37)\n",
        "#Repetir con random_state=2\n",
        "#Repetir con random_state=37 y num_cluster=5\n",
        "scaler = preprocessing.StandardScaler().fit(X)\n",
        "#Importante: normalizar los datos\n",
        "X = scaler.transform(X)\n",
        "#Visualizacion de los datos\n",
        "colors = [\"#4EACC5\", \"#FF9C34\", \"#4E9A06\", 'm']\n",
        "for k, col in enumerate(colors):\n",
        "    cluster_data = y_true == k\n",
        "    plt.scatter(X[cluster_data, 0], X[cluster_data, 1], c=col, marker=\".\", s=10)"
      ]
    },
    {
      "cell_type": "markdown",
      "metadata": {
        "id": "TGuCY45eKqPA"
      },
      "source": [
        "# Kmeans\n",
        "Para esta práctica usaremos la implementación clásica de Kmeans empleando el método disponible en la librería sklearn."
      ]
    },
    {
      "cell_type": "code",
      "execution_count": null,
      "metadata": {
        "id": "0W_VUGWyKo5A"
      },
      "outputs": [],
      "source": [
        "kmeans = KMeans(n_clusters=num_cluster, init='random',n_init=1)\n",
        "kmeans.fit(X)\n",
        "\n",
        "#Calculo del coeficiente de silueta\n",
        "score = silhouette_score(X, kmeans.labels_)\n",
        "print(\"Coeff Silueta para Kmeans: = \", score)\n",
        "\n",
        "#Grafica de los cluster y centroides obtenidos\n",
        "for k, col in enumerate(colors):\n",
        "    filtered = X[kmeans.labels_==k]\n",
        "    plt.scatter(filtered[:, 0], filtered[:, 1], c=col, marker=\".\", s=10)\n",
        "    plt.scatter(kmeans.cluster_centers_[k, 0], kmeans.cluster_centers_[k, 1], c=\"black\", marker=\"o\", s=20)"
      ]
    },
    {
      "cell_type": "markdown",
      "metadata": {
        "id": "2mQHipPA6TtP"
      },
      "source": [
        "### Algoritmo Genético\n"
      ]
    },
    {
      "cell_type": "code",
      "execution_count": null,
      "metadata": {
        "id": "wHc0wEbFLRRv"
      },
      "outputs": [],
      "source": [
        "#Instalacion de la libreria\n",
        "!pip install pygad"
      ]
    },
    {
      "cell_type": "code",
      "execution_count": null,
      "metadata": {
        "id": "jM9S-pdn7bJ2"
      },
      "outputs": [],
      "source": [
        "#Importar libreria pygad\n",
        "import pygad\n",
        "\n",
        "#Paso 1: Definire funcion fitness (funcion de aptitud)\n",
        "#solution: arreglo con los centroides del cluster\n",
        "#solution = [c1(x) c1(x) c2(x) c2(y)... cn(x) cn(y)]\n",
        "\n",
        "def fitness_func(ga_instance, solution, solution_idx):\n",
        "    global X, num_cluster\n",
        "    k=0\n",
        "    distance = np.zeros([n_samples,num_cluster])\n",
        "    #ciclo para determinar la agrupacion de los datos\n",
        "    #de acuerdo con los centroides\n",
        "    for i in np.arange(0,num_cluster*2,2):\n",
        "        centroid = np.array([solution[i], solution[i+1]])\n",
        "        distance[:,k] = np.square(np.sum(np.power(X - centroid, 2), axis=1))\n",
        "        k=k+1\n",
        "    #se asigna cada cluster al centroide mas cercano\n",
        "    solution_inx=distance.argmin(axis=1)\n",
        "    fitness = silhouette_score(X, solution_inx)\n",
        "    return fitness\n",
        "\n",
        "\n",
        "#Paso 2: Preparamos los parametros para correr el algoritmo genetico\n",
        "num_generations = 50\n",
        "num_parents_mating = 10\n",
        "fitness_function = fitness_func\n",
        "sol_per_pop = 20\n",
        "#Numero de genes en la solucion\n",
        "num_genes = num_cluster*2\n",
        "#Rangos iniciales para la poblacion inicial\n",
        "init_range_low = -1\n",
        "init_range_high = 1\n",
        "#Metodo para la seleccion de padres\n",
        "#\"rws\": Ruleta\n",
        "#\"tournament\": Torneo\n",
        "parent_selection_type = \"rws\"\n",
        "keep_parents = 5\n",
        "crossover_type = \"single_point\"\n",
        "crossover_probability=0.8\n",
        "mutation_type = \"random\"\n",
        "mutation_probability = 0.1\n",
        "\n",
        "#Instanciar el Algoritmo\n",
        "ga_instance = pygad.GA(num_generations=num_generations,\n",
        "                       num_parents_mating=num_parents_mating,\n",
        "                       fitness_func=fitness_function,\n",
        "                       sol_per_pop=sol_per_pop,\n",
        "                       num_genes=num_genes,\n",
        "                       init_range_low=init_range_low,\n",
        "                       init_range_high=init_range_high,\n",
        "                       parent_selection_type=parent_selection_type,\n",
        "                       keep_parents=keep_parents,\n",
        "                       crossover_type=crossover_type,\n",
        "                       crossover_probability = crossover_probability,\n",
        "                       mutation_type=mutation_type,\n",
        "                       mutation_probability=mutation_probability)\n",
        "\n",
        "#Corremos el algoritmo\n",
        "ga_instance.run()\n",
        "\n",
        "#Extraemos la mejor solucion\n",
        "solution, solution_fitness, solution_idx = ga_instance.best_solution()\n",
        "print(f\"Parameters of the best solution : {solution}\")\n",
        "print(f\"Fitness value of the best solution = {solution_fitness}\")\n",
        "\n",
        "#Obtenemos los cluster asociados a cada muestra\n",
        "distance = np.zeros([n_samples,num_cluster])\n",
        "k=0\n",
        "for i in np.arange(0,(num_cluster)*2,2):\n",
        "  centroid = np.array([solution[i], solution[i+1]])\n",
        "  distance[:,k] = np.square(np.sum(np.power(X - centroid, 2), axis=1))\n",
        "  k=k+1\n",
        "GA_labels=distance.argmin(axis=1)\n",
        "\n",
        "#Mostrar clusters\n",
        "i=0\n",
        "for k, col in enumerate(colors):\n",
        "    filtered = X[GA_labels==k]\n",
        "    plt.scatter(filtered[:, 0], filtered[:, 1], c=col, marker=\".\", s=10)\n",
        "    plt.scatter(solution[i], solution[i+1], c=\"black\", marker=\"o\", s=20)\n",
        "    i+=2"
      ]
    },
    {
      "cell_type": "markdown",
      "source": [
        "###PSO"
      ],
      "metadata": {
        "id": "dJMbjFWvy-tH"
      }
    },
    {
      "cell_type": "code",
      "source": [
        "#Instalamos la libreria\n",
        "!pip install pyswarms"
      ],
      "metadata": {
        "id": "tYN_AcQty9Ty"
      },
      "execution_count": null,
      "outputs": []
    },
    {
      "cell_type": "code",
      "source": [
        "#Importamos la libreria\n",
        "import pyswarms as ps\n",
        "\n",
        "#Definicmos los hiperparametros\n",
        "options = {'c1': 2, 'c2': 2, 'w':0.9}\n",
        "dimensions = num_cluster*2\n",
        "max_bound = 1*np.ones(dimensions)\n",
        "min_bound = - max_bound\n",
        "bounds = (min_bound, max_bound)\n",
        "n_particles = 20\n",
        "#solution = [c1(x) c1(x) c2(x) c2(y)... cn(x) cn(y)]\n",
        "optimizer = ps.single.GlobalBestPSO(n_particles=n_particles, dimensions=dimensions, options=options, bounds=bounds)\n",
        "\n",
        "#Ajuste de la funcion objetivo\n",
        "def funcion_objetivo(solution):\n",
        "    global X, num_cluster, n_particles\n",
        "    distance = np.zeros([n_samples,num_cluster])\n",
        "    fitness = np.zeros(n_particles)\n",
        "    #ciclo para determinar la agrupacion de los datos\n",
        "    #de acuerdo con los centroides\n",
        "    for j in range(n_particles):\n",
        "        k=0\n",
        "        for i in np.arange(0,num_cluster*2,2):\n",
        "              centroid = np.array([solution[j,i], solution[j,i+1]])\n",
        "              distance[:,k] = np.square(np.sum(np.power(X - centroid, 2), axis=1))\n",
        "              k=k+1\n",
        "        #se asigna cada cluster al centroide mas cercano\n",
        "        solution_inx=distance.argmin(axis=1)\n",
        "        if np.unique(solution_inx).size==1:\n",
        "          fitness[j]=1\n",
        "        else:\n",
        "          fitness[j] = 1-silhouette_score(X, solution_inx)\n",
        "    return fitness\n",
        "\n",
        "#Corremos el algoritmo PSO\n",
        "cost, pos = optimizer.optimize(funcion_objetivo, 50)\n",
        "\n",
        "#Extraemos la mejor solucion\n",
        "solution = optimizer.swarm.best_pos\n",
        "print(f\"Parameters of the best solution : {solution}\")\n",
        "\n",
        "#Obtenemos los cluster asociados a cada muestra\n",
        "distance = np.zeros([n_samples,num_cluster])\n",
        "k=0\n",
        "for i in np.arange(0,(num_cluster)*2,2):\n",
        "  centroid = np.array([solution[i], solution[i+1]])\n",
        "  distance[:,k] = np.square(np.sum(np.power(X - centroid, 2), axis=1))\n",
        "  k=k+1\n",
        "PSO_labels=distance.argmin(axis=1)\n",
        "print(f\"Score : {silhouette_score(X, PSO_labels)}\")\n",
        "\n",
        "#Mostrar clusters\n",
        "i=0\n",
        "for k, col in enumerate(colors):\n",
        "    filtered = X[PSO_labels==k]\n",
        "    plt.scatter(filtered[:, 0], filtered[:, 1], c=col, marker=\".\", s=10)\n",
        "    plt.scatter(solution[i], solution[i+1], c=\"black\", marker=\"o\", s=20)\n",
        "    i+=2"
      ],
      "metadata": {
        "id": "0QZQw6z-zISj"
      },
      "execution_count": null,
      "outputs": []
    },
    {
      "cell_type": "markdown",
      "source": [
        "### ACO"
      ],
      "metadata": {
        "id": "OjcAuO2fNz_r"
      }
    },
    {
      "cell_type": "code",
      "source": [
        "!pip install mealpy"
      ],
      "metadata": {
        "id": "r4RkYnnuN1pd"
      },
      "execution_count": null,
      "outputs": []
    },
    {
      "cell_type": "code",
      "source": [
        "#Importar libreria\n",
        "from mealpy import FloatVar, ACOR"
      ],
      "metadata": {
        "id": "4OeEw0MWN8E5"
      },
      "execution_count": null,
      "outputs": []
    },
    {
      "cell_type": "code",
      "source": [
        "#solution: arreglo con los centroides del cluster\n",
        "#solution = [c1(x) c1(x) c2(x) c2(y)... cn(x) cn(y)]\n",
        "def objective_funcACO(solution):\n",
        "  global X, num_cluster\n",
        "\n",
        "\n",
        "\n",
        "  return fitness"
      ],
      "metadata": {
        "id": "rHcJxG4aOKZn"
      },
      "execution_count": null,
      "outputs": []
    },
    {
      "cell_type": "code",
      "source": [
        "#Configuracion del problema a traves de un diccionario\n",
        "#####\n",
        "problem_dict = {\n",
        "    \"obj_func\": objective_funcACO,\n",
        "    \"bounds\": FloatVar(lb=[-1,]*n_dim, ub=[1,]*n_dim),\n",
        "    \"minmax\": \"max\"\n",
        "}"
      ],
      "metadata": {
        "id": "yPdN0w_tONmv"
      },
      "execution_count": null,
      "outputs": []
    },
    {
      "cell_type": "code",
      "source": [
        "#Optimizacion usando ACO\n"
      ],
      "metadata": {
        "id": "0NC3EXPfORsP"
      },
      "execution_count": null,
      "outputs": []
    },
    {
      "cell_type": "code",
      "source": [
        "#Guardamos la solucion para la comparacion\n",
        "ACO_cluster_centers = modelACO.g_best.solution\n",
        "scoreACO = modelACO.g_best.target\n",
        "\n",
        "#Obtenemos los cluster asociados a cada muestra\n",
        "distance = np.zeros([n_samples,num_cluster])\n",
        "k=0\n",
        "for i in np.arange(0,(num_cluster)*2,2):\n",
        "  centroid = np.array([ACO_cluster_centers[i], ACO_cluster_centers[i+1]])\n",
        "  distance[:,k] = np.square(np.sum(np.power(X - centroid, 2), axis=1))\n",
        "  k=k+1\n",
        "ACO_labels=distance.argmin(axis=1)"
      ],
      "metadata": {
        "id": "8nnkKn_aOb0T"
      },
      "execution_count": null,
      "outputs": []
    },
    {
      "cell_type": "code",
      "source": [
        "#Mostrar score\n",
        "print(scoreACO)\n",
        "\n",
        "#Mostrar clusters\n",
        "i=0\n",
        "for k, col in enumerate(colors):\n",
        "    filtered = X[ACO_labels==k]\n",
        "    plt.scatter(filtered[:, 0], filtered[:, 1], c=col, marker=\".\", s=10)\n",
        "    plt.scatter(ACO_cluster_centers[i], ACO_cluster_centers[i+1], c=\"black\", marker=\"o\", s=20)\n",
        "    i+=2"
      ],
      "metadata": {
        "id": "z2abQ5yhOdk5"
      },
      "execution_count": null,
      "outputs": []
    },
    {
      "cell_type": "markdown",
      "source": [
        "### Comparacion de resultados"
      ],
      "metadata": {
        "id": "UezYAbDbOhm5"
      }
    },
    {
      "cell_type": "code",
      "source": [
        "fig, axs = plt.subplots(3, 2)\n",
        "colors = [\"#4EACC5\", \"#FF9C34\", \"#4E9A06\", 'm', 'r']\n",
        "\n",
        "for k, col in enumerate(colors):\n",
        "    cluster_data = y_true == k\n",
        "    axs[0, 0].scatter(X[cluster_data, 0], X[cluster_data, 1], c=col, marker=\".\", s=10)\n",
        "axs[0, 0].set_title('Datos')\n",
        "\n",
        "for k, col in enumerate(colors):\n",
        "    filtered = X[kmeans.labels_==k]\n",
        "    axs[1, 0].scatter(filtered[:, 0], filtered[:, 1], c=col, marker=\".\", s=10)\n",
        "axs[1, 0].set_title('Kmeans')\n",
        "\n",
        "for k, col in enumerate(colors):\n",
        "    filtered = X[GA_labels==k]\n",
        "    axs[1, 1].scatter(filtered[:, 0], filtered[:, 1], c=col, marker=\".\", s=10)\n",
        "axs[1, 1].set_title('GA')\n",
        "\n",
        "for k, col in enumerate(colors):\n",
        "    filtered = X[PSO_labels==k]\n",
        "    axs[2, 0].scatter(filtered[:, 0], filtered[:, 1], c=col, marker=\".\", s=10)\n",
        "axs[2, 0].set_title('PSO')\n",
        "\n",
        "for k, col in enumerate(colors):\n",
        "    filtered = X[ACO_labels==k]\n",
        "    axs[2, 1].scatter(filtered[:, 0], filtered[:, 1], c=col, marker=\".\", s=10)\n",
        "axs[2, 1].set_title('ACO')"
      ],
      "metadata": {
        "id": "M5GNpEYuOjY3"
      },
      "execution_count": null,
      "outputs": []
    }
  ],
  "metadata": {
    "colab": {
      "provenance": []
    },
    "kernelspec": {
      "display_name": "Python 3",
      "language": "python",
      "name": "python3"
    },
    "language_info": {
      "codemirror_mode": {
        "name": "ipython",
        "version": 3
      },
      "file_extension": ".py",
      "mimetype": "text/x-python",
      "name": "python",
      "nbconvert_exporter": "python",
      "pygments_lexer": "ipython3",
      "version": "3.10.12"
    }
  },
  "nbformat": 4,
  "nbformat_minor": 0
}